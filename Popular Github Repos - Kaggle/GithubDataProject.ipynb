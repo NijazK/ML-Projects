{
 "cells": [
  {
   "cell_type": "code",
   "execution_count": 60,
   "id": "e1d80c94",
   "metadata": {},
   "outputs": [],
   "source": [
    "import pandas as pd\n",
    "import numpy as np\n",
    "import matplotlib.pyplot as plt\n",
    "%matplotlib inline\n",
    "from IPython.display import display, HTML\n",
    "import seaborn as sns"
   ]
  },
  {
   "cell_type": "code",
   "execution_count": 61,
   "id": "b418ad60",
   "metadata": {},
   "outputs": [],
   "source": [
    "df = pd.read_csv(\"Github.csv\")"
   ]
  },
  {
   "cell_type": "code",
   "execution_count": 62,
   "id": "e8369a61",
   "metadata": {},
   "outputs": [
    {
     "data": {
      "text/html": [
       "<div>\n",
       "<style scoped>\n",
       "    .dataframe tbody tr th:only-of-type {\n",
       "        vertical-align: middle;\n",
       "    }\n",
       "\n",
       "    .dataframe tbody tr th {\n",
       "        vertical-align: top;\n",
       "    }\n",
       "\n",
       "    .dataframe thead th {\n",
       "        text-align: right;\n",
       "    }\n",
       "</style>\n",
       "<table border=\"1\" class=\"dataframe\">\n",
       "  <thead>\n",
       "    <tr style=\"text-align: right;\">\n",
       "      <th></th>\n",
       "      <th>Name</th>\n",
       "      <th>Stars</th>\n",
       "      <th>Forks</th>\n",
       "      <th>Language</th>\n",
       "      <th>Description</th>\n",
       "      <th>URL</th>\n",
       "      <th>Domain</th>\n",
       "      <th>Growth Pattern</th>\n",
       "    </tr>\n",
       "  </thead>\n",
       "  <tbody>\n",
       "    <tr>\n",
       "      <th>0</th>\n",
       "      <td>freeCodeCamp/freeCodeCamp</td>\n",
       "      <td>224136</td>\n",
       "      <td>8997</td>\n",
       "      <td>JavaScript</td>\n",
       "      <td>The https://freeCodeCamp.com open source codeb...</td>\n",
       "      <td>https://github.com/freeCodeCamp/freeCodeCamp</td>\n",
       "      <td>Documentation</td>\n",
       "      <td>NaN</td>\n",
       "    </tr>\n",
       "    <tr>\n",
       "      <th>1</th>\n",
       "      <td>twbs/bootstrap</td>\n",
       "      <td>105991</td>\n",
       "      <td>48185</td>\n",
       "      <td>JavaScript</td>\n",
       "      <td>The most popular HTML, CSS, and JavaScript fra...</td>\n",
       "      <td>https://github.com/twbs/bootstrap</td>\n",
       "      <td>Web libraries and frameworks</td>\n",
       "      <td>NaN</td>\n",
       "    </tr>\n",
       "    <tr>\n",
       "      <th>2</th>\n",
       "      <td>d3/d3</td>\n",
       "      <td>59462</td>\n",
       "      <td>15847</td>\n",
       "      <td>JavaScript</td>\n",
       "      <td>Bring data to life with SVG, Canvas and HTML. ...</td>\n",
       "      <td>https://github.com/d3/d3</td>\n",
       "      <td>Web libraries and frameworks</td>\n",
       "      <td>NaN</td>\n",
       "    </tr>\n",
       "    <tr>\n",
       "      <th>3</th>\n",
       "      <td>facebook/react</td>\n",
       "      <td>58176</td>\n",
       "      <td>10559</td>\n",
       "      <td>JavaScript</td>\n",
       "      <td>A declarative, efficient, and flexible JavaScr...</td>\n",
       "      <td>https://github.com/facebook/react</td>\n",
       "      <td>Web libraries and frameworks</td>\n",
       "      <td>NaN</td>\n",
       "    </tr>\n",
       "    <tr>\n",
       "      <th>4</th>\n",
       "      <td>angular/angular.js</td>\n",
       "      <td>54439</td>\n",
       "      <td>27059</td>\n",
       "      <td>JavaScript</td>\n",
       "      <td>HTML enhanced for web apps</td>\n",
       "      <td>https://github.com/angular/angular.js</td>\n",
       "      <td>Web libraries and frameworks</td>\n",
       "      <td>NaN</td>\n",
       "    </tr>\n",
       "    <tr>\n",
       "      <th>5</th>\n",
       "      <td>getify/You-Dont-Know-JS</td>\n",
       "      <td>49828</td>\n",
       "      <td>7657</td>\n",
       "      <td>JavaScript</td>\n",
       "      <td>A book series on JavaScript. @YDKJS on twitter.</td>\n",
       "      <td>https://github.com/getify/You-Dont-Know-JS</td>\n",
       "      <td>Documentation</td>\n",
       "      <td>NaN</td>\n",
       "    </tr>\n",
       "  </tbody>\n",
       "</table>\n",
       "</div>"
      ],
      "text/plain": [
       "                        Name   Stars  Forks    Language  \\\n",
       "0  freeCodeCamp/freeCodeCamp  224136   8997  JavaScript   \n",
       "1             twbs/bootstrap  105991  48185  JavaScript   \n",
       "2                      d3/d3   59462  15847  JavaScript   \n",
       "3             facebook/react   58176  10559  JavaScript   \n",
       "4         angular/angular.js   54439  27059  JavaScript   \n",
       "5    getify/You-Dont-Know-JS   49828   7657  JavaScript   \n",
       "\n",
       "                                         Description  \\\n",
       "0  The https://freeCodeCamp.com open source codeb...   \n",
       "1  The most popular HTML, CSS, and JavaScript fra...   \n",
       "2  Bring data to life with SVG, Canvas and HTML. ...   \n",
       "3  A declarative, efficient, and flexible JavaScr...   \n",
       "4                         HTML enhanced for web apps   \n",
       "5    A book series on JavaScript. @YDKJS on twitter.   \n",
       "\n",
       "                                            URL                        Domain  \\\n",
       "0  https://github.com/freeCodeCamp/freeCodeCamp                 Documentation   \n",
       "1             https://github.com/twbs/bootstrap  Web libraries and frameworks   \n",
       "2                      https://github.com/d3/d3  Web libraries and frameworks   \n",
       "3             https://github.com/facebook/react  Web libraries and frameworks   \n",
       "4         https://github.com/angular/angular.js  Web libraries and frameworks   \n",
       "5    https://github.com/getify/You-Dont-Know-JS                 Documentation   \n",
       "\n",
       "  Growth Pattern  \n",
       "0            NaN  \n",
       "1            NaN  \n",
       "2            NaN  \n",
       "3            NaN  \n",
       "4            NaN  \n",
       "5            NaN  "
      ]
     },
     "execution_count": 62,
     "metadata": {},
     "output_type": "execute_result"
    }
   ],
   "source": [
    "df.head(6)"
   ]
  },
  {
   "cell_type": "code",
   "execution_count": 63,
   "id": "25cbc84f",
   "metadata": {},
   "outputs": [
    {
     "name": "stdout",
     "output_type": "stream",
     "text": [
      "<class 'pandas.core.frame.DataFrame'>\n",
      "RangeIndex: 5000 entries, 0 to 4999\n",
      "Data columns (total 8 columns):\n",
      " #   Column          Non-Null Count  Dtype \n",
      "---  ------          --------------  ----- \n",
      " 0   Name            5000 non-null   object\n",
      " 1   Stars           5000 non-null   int64 \n",
      " 2   Forks           5000 non-null   int64 \n",
      " 3   Language        5000 non-null   object\n",
      " 4   Description     4958 non-null   object\n",
      " 5   URL             5000 non-null   object\n",
      " 6   Domain          5000 non-null   object\n",
      " 7   Growth Pattern  3863 non-null   object\n",
      "dtypes: int64(2), object(6)\n",
      "memory usage: 312.6+ KB\n"
     ]
    }
   ],
   "source": [
    "df.info()"
   ]
  },
  {
   "cell_type": "markdown",
   "id": "8c095a87",
   "metadata": {},
   "source": [
    "### Data Pre-Processing, EDA, Cleanup"
   ]
  },
  {
   "cell_type": "markdown",
   "id": "f7a4eec5",
   "metadata": {},
   "source": [
    "#### Delete the growth pattern as it is not relevant to this project. We shall explore growth patterns later on with more rigorous approach."
   ]
  },
  {
   "cell_type": "code",
   "execution_count": 64,
   "id": "a1d92ef6",
   "metadata": {},
   "outputs": [],
   "source": [
    "df.drop('Growth Pattern', axis=1, inplace=True)"
   ]
  },
  {
   "cell_type": "code",
   "execution_count": 65,
   "id": "aaff3071",
   "metadata": {},
   "outputs": [
    {
     "data": {
      "text/html": [
       "<div>\n",
       "<style scoped>\n",
       "    .dataframe tbody tr th:only-of-type {\n",
       "        vertical-align: middle;\n",
       "    }\n",
       "\n",
       "    .dataframe tbody tr th {\n",
       "        vertical-align: top;\n",
       "    }\n",
       "\n",
       "    .dataframe thead th {\n",
       "        text-align: right;\n",
       "    }\n",
       "</style>\n",
       "<table border=\"1\" class=\"dataframe\">\n",
       "  <thead>\n",
       "    <tr style=\"text-align: right;\">\n",
       "      <th></th>\n",
       "      <th>Name</th>\n",
       "      <th>Stars</th>\n",
       "      <th>Forks</th>\n",
       "      <th>Language</th>\n",
       "      <th>Description</th>\n",
       "      <th>URL</th>\n",
       "      <th>Domain</th>\n",
       "    </tr>\n",
       "  </thead>\n",
       "  <tbody>\n",
       "    <tr>\n",
       "      <th>0</th>\n",
       "      <td>freeCodeCamp/freeCodeCamp</td>\n",
       "      <td>224136</td>\n",
       "      <td>8997</td>\n",
       "      <td>JavaScript</td>\n",
       "      <td>The https://freeCodeCamp.com open source codeb...</td>\n",
       "      <td>https://github.com/freeCodeCamp/freeCodeCamp</td>\n",
       "      <td>Documentation</td>\n",
       "    </tr>\n",
       "    <tr>\n",
       "      <th>1</th>\n",
       "      <td>twbs/bootstrap</td>\n",
       "      <td>105991</td>\n",
       "      <td>48185</td>\n",
       "      <td>JavaScript</td>\n",
       "      <td>The most popular HTML, CSS, and JavaScript fra...</td>\n",
       "      <td>https://github.com/twbs/bootstrap</td>\n",
       "      <td>Web libraries and frameworks</td>\n",
       "    </tr>\n",
       "    <tr>\n",
       "      <th>2</th>\n",
       "      <td>d3/d3</td>\n",
       "      <td>59462</td>\n",
       "      <td>15847</td>\n",
       "      <td>JavaScript</td>\n",
       "      <td>Bring data to life with SVG, Canvas and HTML. ...</td>\n",
       "      <td>https://github.com/d3/d3</td>\n",
       "      <td>Web libraries and frameworks</td>\n",
       "    </tr>\n",
       "    <tr>\n",
       "      <th>3</th>\n",
       "      <td>facebook/react</td>\n",
       "      <td>58176</td>\n",
       "      <td>10559</td>\n",
       "      <td>JavaScript</td>\n",
       "      <td>A declarative, efficient, and flexible JavaScr...</td>\n",
       "      <td>https://github.com/facebook/react</td>\n",
       "      <td>Web libraries and frameworks</td>\n",
       "    </tr>\n",
       "    <tr>\n",
       "      <th>4</th>\n",
       "      <td>angular/angular.js</td>\n",
       "      <td>54439</td>\n",
       "      <td>27059</td>\n",
       "      <td>JavaScript</td>\n",
       "      <td>HTML enhanced for web apps</td>\n",
       "      <td>https://github.com/angular/angular.js</td>\n",
       "      <td>Web libraries and frameworks</td>\n",
       "    </tr>\n",
       "    <tr>\n",
       "      <th>...</th>\n",
       "      <td>...</td>\n",
       "      <td>...</td>\n",
       "      <td>...</td>\n",
       "      <td>...</td>\n",
       "      <td>...</td>\n",
       "      <td>...</td>\n",
       "      <td>...</td>\n",
       "    </tr>\n",
       "    <tr>\n",
       "      <th>4995</th>\n",
       "      <td>Yalantis/FlipViewPager.Draco</td>\n",
       "      <td>1598</td>\n",
       "      <td>326</td>\n",
       "      <td>Java</td>\n",
       "      <td>This project aims to provide a working page fl...</td>\n",
       "      <td>https://github.com/Yalantis/FlipViewPager.Draco</td>\n",
       "      <td>Non-web libraries and frameworks</td>\n",
       "    </tr>\n",
       "    <tr>\n",
       "      <th>4996</th>\n",
       "      <td>ScottHamper/Cookies</td>\n",
       "      <td>1598</td>\n",
       "      <td>167</td>\n",
       "      <td>JavaScript</td>\n",
       "      <td>JavaScript Client-Side Cookie Manipulation Lib...</td>\n",
       "      <td>https://github.com/ScottHamper/Cookies</td>\n",
       "      <td>Web libraries and frameworks</td>\n",
       "    </tr>\n",
       "    <tr>\n",
       "      <th>4997</th>\n",
       "      <td>mortdeus/legacy-cc</td>\n",
       "      <td>1597</td>\n",
       "      <td>199</td>\n",
       "      <td>C</td>\n",
       "      <td>The earliest versions of the very first c comp...</td>\n",
       "      <td>https://github.com/mortdeus/legacy-cc</td>\n",
       "      <td>Software tools</td>\n",
       "    </tr>\n",
       "    <tr>\n",
       "      <th>4998</th>\n",
       "      <td>B-Sides/ELCImagePickerController</td>\n",
       "      <td>1597</td>\n",
       "      <td>496</td>\n",
       "      <td>Objective-C</td>\n",
       "      <td>A clone of the UIImagePickerController using t...</td>\n",
       "      <td>https://github.com/B-Sides/ELCImagePickerContr...</td>\n",
       "      <td>Non-web libraries and frameworks</td>\n",
       "    </tr>\n",
       "    <tr>\n",
       "      <th>4999</th>\n",
       "      <td>mapnik/mapnik</td>\n",
       "      <td>1596</td>\n",
       "      <td>454</td>\n",
       "      <td>C++</td>\n",
       "      <td>Mapnik is an open source toolkit for developin...</td>\n",
       "      <td>https://github.com/mapnik/mapnik</td>\n",
       "      <td>Non-web libraries and frameworks</td>\n",
       "    </tr>\n",
       "  </tbody>\n",
       "</table>\n",
       "<p>5000 rows × 7 columns</p>\n",
       "</div>"
      ],
      "text/plain": [
       "                                  Name   Stars  Forks     Language  \\\n",
       "0            freeCodeCamp/freeCodeCamp  224136   8997   JavaScript   \n",
       "1                       twbs/bootstrap  105991  48185   JavaScript   \n",
       "2                                d3/d3   59462  15847   JavaScript   \n",
       "3                       facebook/react   58176  10559   JavaScript   \n",
       "4                   angular/angular.js   54439  27059   JavaScript   \n",
       "...                                ...     ...    ...          ...   \n",
       "4995      Yalantis/FlipViewPager.Draco    1598    326         Java   \n",
       "4996               ScottHamper/Cookies    1598    167   JavaScript   \n",
       "4997                mortdeus/legacy-cc    1597    199            C   \n",
       "4998  B-Sides/ELCImagePickerController    1597    496  Objective-C   \n",
       "4999                     mapnik/mapnik    1596    454          C++   \n",
       "\n",
       "                                            Description  \\\n",
       "0     The https://freeCodeCamp.com open source codeb...   \n",
       "1     The most popular HTML, CSS, and JavaScript fra...   \n",
       "2     Bring data to life with SVG, Canvas and HTML. ...   \n",
       "3     A declarative, efficient, and flexible JavaScr...   \n",
       "4                            HTML enhanced for web apps   \n",
       "...                                                 ...   \n",
       "4995  This project aims to provide a working page fl...   \n",
       "4996  JavaScript Client-Side Cookie Manipulation Lib...   \n",
       "4997  The earliest versions of the very first c comp...   \n",
       "4998  A clone of the UIImagePickerController using t...   \n",
       "4999  Mapnik is an open source toolkit for developin...   \n",
       "\n",
       "                                                    URL  \\\n",
       "0          https://github.com/freeCodeCamp/freeCodeCamp   \n",
       "1                     https://github.com/twbs/bootstrap   \n",
       "2                              https://github.com/d3/d3   \n",
       "3                     https://github.com/facebook/react   \n",
       "4                 https://github.com/angular/angular.js   \n",
       "...                                                 ...   \n",
       "4995    https://github.com/Yalantis/FlipViewPager.Draco   \n",
       "4996             https://github.com/ScottHamper/Cookies   \n",
       "4997              https://github.com/mortdeus/legacy-cc   \n",
       "4998  https://github.com/B-Sides/ELCImagePickerContr...   \n",
       "4999                   https://github.com/mapnik/mapnik   \n",
       "\n",
       "                                Domain  \n",
       "0                        Documentation  \n",
       "1         Web libraries and frameworks  \n",
       "2         Web libraries and frameworks  \n",
       "3         Web libraries and frameworks  \n",
       "4         Web libraries and frameworks  \n",
       "...                                ...  \n",
       "4995  Non-web libraries and frameworks  \n",
       "4996      Web libraries and frameworks  \n",
       "4997                    Software tools  \n",
       "4998  Non-web libraries and frameworks  \n",
       "4999  Non-web libraries and frameworks  \n",
       "\n",
       "[5000 rows x 7 columns]"
      ]
     },
     "execution_count": 65,
     "metadata": {},
     "output_type": "execute_result"
    }
   ],
   "source": [
    "df"
   ]
  },
  {
   "cell_type": "code",
   "execution_count": 66,
   "id": "c3b6cccb",
   "metadata": {},
   "outputs": [
    {
     "data": {
      "text/plain": [
       "Name            0\n",
       "Stars           0\n",
       "Forks           0\n",
       "Language        0\n",
       "Description    42\n",
       "URL             0\n",
       "Domain          0\n",
       "dtype: int64"
      ]
     },
     "execution_count": 66,
     "metadata": {},
     "output_type": "execute_result"
    }
   ],
   "source": [
    "df.isnull().sum()"
   ]
  },
  {
   "cell_type": "markdown",
   "id": "3e798b1c",
   "metadata": {},
   "source": [
    "### Data Visualization "
   ]
  },
  {
   "cell_type": "code",
   "execution_count": 67,
   "id": "cd025b29",
   "metadata": {},
   "outputs": [
    {
     "data": {
      "image/png": "[encoded data removed]",
      "text/plain": [
       "<Figure size 640x480 with 1 Axes>"
      ]
     },
     "metadata": {},
     "output_type": "display_data"
    }
   ],
   "source": [
    "# create scatterplot of variables mpg against wt.\n",
    "plt.plot(df[\"Stars\"], df[\"Forks\"], 'o', color='red')\n",
    "\n",
    "# set a title for the plot, x-axis, and y-axis.\n",
    "plt.title('Stars Against Forks')\n",
    "plt.xlabel('Stars')\n",
    "plt.ylabel('Forks')\n",
    "\n",
    "# show the plot.\n",
    "plt.show()"
   ]
  },
  {
   "cell_type": "markdown",
   "id": "74f81e92",
   "metadata": {},
   "source": [
    "#### Insight:\n",
    "* As the stars increase, so too does the forks.\n",
    "* Three outlier of the data all belong to JavaScript langauge.\n",
    "* Outliers belong to Web Libraires and Framework."
   ]
  },
  {
   "cell_type": "code",
   "execution_count": 68,
   "id": "abd09cca",
   "metadata": {},
   "outputs": [],
   "source": [
    "columns = df.columns\n",
    "categorical_cols = []\n",
    "numerical_cols = []\n",
    "for col in columns:\n",
    "    if df[col].dtype == \"object\":\n",
    "        categorical_cols.append(col)\n",
    "    else:\n",
    "        numerical_cols.append(col)"
   ]
  },
  {
   "cell_type": "code",
   "execution_count": 69,
   "id": "8e98cd52",
   "metadata": {},
   "outputs": [
    {
     "data": {
      "text/plain": [
       "['Name', 'Language', 'Description', 'URL', 'Domain']"
      ]
     },
     "execution_count": 69,
     "metadata": {},
     "output_type": "execute_result"
    }
   ],
   "source": [
    "categorical_cols"
   ]
  },
  {
   "cell_type": "code",
   "execution_count": 70,
   "id": "b79a1e16",
   "metadata": {},
   "outputs": [
    {
     "data": {
      "text/plain": [
       "['Stars', 'Forks']"
      ]
     },
     "execution_count": 70,
     "metadata": {},
     "output_type": "execute_result"
    }
   ],
   "source": [
    "numerical_cols"
   ]
  },
  {
   "cell_type": "code",
   "execution_count": 77,
   "id": "d6bbf4d1",
   "metadata": {},
   "outputs": [
    {
     "data": {
      "text/html": [
       "<div>\n",
       "<style scoped>\n",
       "    .dataframe tbody tr th:only-of-type {\n",
       "        vertical-align: middle;\n",
       "    }\n",
       "\n",
       "    .dataframe tbody tr th {\n",
       "        vertical-align: top;\n",
       "    }\n",
       "\n",
       "    .dataframe thead th {\n",
       "        text-align: right;\n",
       "    }\n",
       "</style>\n",
       "<table border=\"1\" class=\"dataframe\">\n",
       "  <thead>\n",
       "    <tr style=\"text-align: right;\">\n",
       "      <th></th>\n",
       "      <th>Stars</th>\n",
       "      <th>Forks</th>\n",
       "    </tr>\n",
       "    <tr>\n",
       "      <th>Language</th>\n",
       "      <th></th>\n",
       "      <th></th>\n",
       "    </tr>\n",
       "  </thead>\n",
       "  <tbody>\n",
       "    <tr>\n",
       "      <th>ActionScript</th>\n",
       "      <td>2063.0</td>\n",
       "      <td>875.0</td>\n",
       "    </tr>\n",
       "    <tr>\n",
       "      <th>ApacheConf</th>\n",
       "      <td>4891.0</td>\n",
       "      <td>595.0</td>\n",
       "    </tr>\n",
       "    <tr>\n",
       "      <th>Assembly</th>\n",
       "      <td>6759.0</td>\n",
       "      <td>995.0</td>\n",
       "    </tr>\n",
       "    <tr>\n",
       "      <th>Batchfile</th>\n",
       "      <td>6412.0</td>\n",
       "      <td>1922.0</td>\n",
       "    </tr>\n",
       "    <tr>\n",
       "      <th>Bro</th>\n",
       "      <td>1732.0</td>\n",
       "      <td>460.0</td>\n",
       "    </tr>\n",
       "    <tr>\n",
       "      <th>...</th>\n",
       "      <td>...</td>\n",
       "      <td>...</td>\n",
       "    </tr>\n",
       "    <tr>\n",
       "      <th>TypeScript</th>\n",
       "      <td>5981.0</td>\n",
       "      <td>1153.0</td>\n",
       "    </tr>\n",
       "    <tr>\n",
       "      <th>Vala</th>\n",
       "      <td>4197.0</td>\n",
       "      <td>208.0</td>\n",
       "    </tr>\n",
       "    <tr>\n",
       "      <th>VimL</th>\n",
       "      <td>4633.0</td>\n",
       "      <td>685.0</td>\n",
       "    </tr>\n",
       "    <tr>\n",
       "      <th>Vue</th>\n",
       "      <td>4249.0</td>\n",
       "      <td>695.0</td>\n",
       "    </tr>\n",
       "    <tr>\n",
       "      <th>XSLT</th>\n",
       "      <td>2586.0</td>\n",
       "      <td>475.0</td>\n",
       "    </tr>\n",
       "  </tbody>\n",
       "</table>\n",
       "<p>71 rows × 2 columns</p>\n",
       "</div>"
      ],
      "text/plain": [
       "               Stars   Forks\n",
       "Language                    \n",
       "ActionScript  2063.0   875.0\n",
       "ApacheConf    4891.0   595.0\n",
       "Assembly      6759.0   995.0\n",
       "Batchfile     6412.0  1922.0\n",
       "Bro           1732.0   460.0\n",
       "...              ...     ...\n",
       "TypeScript    5981.0  1153.0\n",
       "Vala          4197.0   208.0\n",
       "VimL          4633.0   685.0\n",
       "Vue           4249.0   695.0\n",
       "XSLT          2586.0   475.0\n",
       "\n",
       "[71 rows x 2 columns]"
      ]
     },
     "execution_count": 77,
     "metadata": {},
     "output_type": "execute_result"
    }
   ],
   "source": [
    "df.groupby('Language').mean().round()"
   ]
  },
  {
   "cell_type": "code",
   "execution_count": 78,
   "id": "0d1a0b7a",
   "metadata": {},
   "outputs": [
    {
     "data": {
      "text/html": [
       "<div>\n",
       "<style scoped>\n",
       "    .dataframe tbody tr th:only-of-type {\n",
       "        vertical-align: middle;\n",
       "    }\n",
       "\n",
       "    .dataframe tbody tr th {\n",
       "        vertical-align: top;\n",
       "    }\n",
       "\n",
       "    .dataframe thead th {\n",
       "        text-align: right;\n",
       "    }\n",
       "</style>\n",
       "<table border=\"1\" class=\"dataframe\">\n",
       "  <thead>\n",
       "    <tr style=\"text-align: right;\">\n",
       "      <th></th>\n",
       "      <th>Stars</th>\n",
       "      <th>Forks</th>\n",
       "    </tr>\n",
       "    <tr>\n",
       "      <th>Domain</th>\n",
       "      <th></th>\n",
       "      <th></th>\n",
       "    </tr>\n",
       "  </thead>\n",
       "  <tbody>\n",
       "    <tr>\n",
       "      <th>Application software</th>\n",
       "      <td>4398.0</td>\n",
       "      <td>917.0</td>\n",
       "    </tr>\n",
       "    <tr>\n",
       "      <th>Documentation</th>\n",
       "      <td>5038.0</td>\n",
       "      <td>1393.0</td>\n",
       "    </tr>\n",
       "    <tr>\n",
       "      <th>Non-web libraries and frameworks</th>\n",
       "      <td>3603.0</td>\n",
       "      <td>715.0</td>\n",
       "    </tr>\n",
       "    <tr>\n",
       "      <th>Software tools</th>\n",
       "      <td>4163.0</td>\n",
       "      <td>673.0</td>\n",
       "    </tr>\n",
       "    <tr>\n",
       "      <th>System software</th>\n",
       "      <td>5480.0</td>\n",
       "      <td>1159.0</td>\n",
       "    </tr>\n",
       "    <tr>\n",
       "      <th>Web libraries and frameworks</th>\n",
       "      <td>4773.0</td>\n",
       "      <td>907.0</td>\n",
       "    </tr>\n",
       "  </tbody>\n",
       "</table>\n",
       "</div>"
      ],
      "text/plain": [
       "                                   Stars   Forks\n",
       "Domain                                          \n",
       "Application software              4398.0   917.0\n",
       "Documentation                     5038.0  1393.0\n",
       "Non-web libraries and frameworks  3603.0   715.0\n",
       "Software tools                    4163.0   673.0\n",
       "System software                   5480.0  1159.0\n",
       "Web libraries and frameworks      4773.0   907.0"
      ]
     },
     "execution_count": 78,
     "metadata": {},
     "output_type": "execute_result"
    }
   ],
   "source": [
    "df.groupby('Domain').mean().round()"
   ]
  },
  {
   "cell_type": "code",
   "execution_count": 80,
   "id": "8c096675",
   "metadata": {},
   "outputs": [
    {
     "data": {
      "text/html": [
       "<div>\n",
       "<style scoped>\n",
       "    .dataframe tbody tr th:only-of-type {\n",
       "        vertical-align: middle;\n",
       "    }\n",
       "\n",
       "    .dataframe tbody tr th {\n",
       "        vertical-align: top;\n",
       "    }\n",
       "\n",
       "    .dataframe thead th {\n",
       "        text-align: right;\n",
       "    }\n",
       "</style>\n",
       "<table border=\"1\" class=\"dataframe\">\n",
       "  <thead>\n",
       "    <tr style=\"text-align: right;\">\n",
       "      <th></th>\n",
       "      <th>Stars</th>\n",
       "      <th>Forks</th>\n",
       "    </tr>\n",
       "    <tr>\n",
       "      <th>Name</th>\n",
       "      <th></th>\n",
       "      <th></th>\n",
       "    </tr>\n",
       "  </thead>\n",
       "  <tbody>\n",
       "    <tr>\n",
       "      <th>01org/acat</th>\n",
       "      <td>2536.0</td>\n",
       "      <td>583.0</td>\n",
       "    </tr>\n",
       "    <tr>\n",
       "      <th>01org/appframework</th>\n",
       "      <td>2505.0</td>\n",
       "      <td>997.0</td>\n",
       "    </tr>\n",
       "    <tr>\n",
       "      <th>0rpc/zerorpc-python</th>\n",
       "      <td>1850.0</td>\n",
       "      <td>238.0</td>\n",
       "    </tr>\n",
       "    <tr>\n",
       "      <th>0x5e/wechat-deleted-friends</th>\n",
       "      <td>4635.0</td>\n",
       "      <td>1694.0</td>\n",
       "    </tr>\n",
       "    <tr>\n",
       "      <th>0xced/XCDYouTubeKit</th>\n",
       "      <td>1959.0</td>\n",
       "      <td>325.0</td>\n",
       "    </tr>\n",
       "    <tr>\n",
       "      <th>...</th>\n",
       "      <td>...</td>\n",
       "      <td>...</td>\n",
       "    </tr>\n",
       "    <tr>\n",
       "      <th>zyedidia/micro</th>\n",
       "      <td>4736.0</td>\n",
       "      <td>185.0</td>\n",
       "    </tr>\n",
       "    <tr>\n",
       "      <th>zythum/mama2</th>\n",
       "      <td>1838.0</td>\n",
       "      <td>282.0</td>\n",
       "    </tr>\n",
       "    <tr>\n",
       "      <th>zzmp/juliusjs</th>\n",
       "      <td>2461.0</td>\n",
       "      <td>164.0</td>\n",
       "    </tr>\n",
       "    <tr>\n",
       "      <th>zzz40500/AndroidSweetSheet</th>\n",
       "      <td>1604.0</td>\n",
       "      <td>326.0</td>\n",
       "    </tr>\n",
       "    <tr>\n",
       "      <th>zzz40500/GsonFormat</th>\n",
       "      <td>1896.0</td>\n",
       "      <td>397.0</td>\n",
       "    </tr>\n",
       "  </tbody>\n",
       "</table>\n",
       "<p>5000 rows × 2 columns</p>\n",
       "</div>"
      ],
      "text/plain": [
       "                              Stars   Forks\n",
       "Name                                       \n",
       "01org/acat                   2536.0   583.0\n",
       "01org/appframework           2505.0   997.0\n",
       "0rpc/zerorpc-python          1850.0   238.0\n",
       "0x5e/wechat-deleted-friends  4635.0  1694.0\n",
       "0xced/XCDYouTubeKit          1959.0   325.0\n",
       "...                             ...     ...\n",
       "zyedidia/micro               4736.0   185.0\n",
       "zythum/mama2                 1838.0   282.0\n",
       "zzmp/juliusjs                2461.0   164.0\n",
       "zzz40500/AndroidSweetSheet   1604.0   326.0\n",
       "zzz40500/GsonFormat          1896.0   397.0\n",
       "\n",
       "[5000 rows x 2 columns]"
      ]
     },
     "execution_count": 80,
     "metadata": {},
     "output_type": "execute_result"
    }
   ],
   "source": [
    "df.groupby('Name').mean().round()"
   ]
  },
  {
   "cell_type": "markdown",
   "id": "1a99c056",
   "metadata": {},
   "source": [
    "### Insights:\n",
    "* There 71 different langauges that were grouped in the two numerical value category"
   ]
  },
  {
   "cell_type": "code",
   "execution_count": 72,
   "id": "6e04abf6",
   "metadata": {},
   "outputs": [
    {
     "data": {
      "text/plain": [
       "0     JavaScript\n",
       "1     JavaScript\n",
       "2     JavaScript\n",
       "3     JavaScript\n",
       "4     JavaScript\n",
       "5     JavaScript\n",
       "6          Shell\n",
       "7           HTML\n",
       "8     JavaScript\n",
       "9            C++\n",
       "10    JavaScript\n",
       "11    JavaScript\n",
       "12             C\n",
       "13           C++\n",
       "14    JavaScript\n",
       "Name: Language, dtype: object"
      ]
     },
     "execution_count": 72,
     "metadata": {},
     "output_type": "execute_result"
    }
   ],
   "source": [
    "df['Language'].head(15)"
   ]
  },
  {
   "cell_type": "code",
   "execution_count": 73,
   "id": "187bdc50",
   "metadata": {},
   "outputs": [
    {
     "data": {
      "text/plain": [
       "0     freeCodeCamp/freeCodeCamp\n",
       "1                twbs/bootstrap\n",
       "2                         d3/d3\n",
       "3                facebook/react\n",
       "4            angular/angular.js\n",
       "5       getify/You-Dont-Know-JS\n",
       "6        robbyrussell/oh-my-zsh\n",
       "7      FortAwesome/Font-Awesome\n",
       "8             airbnb/javascript\n",
       "9         tensorflow/tensorflow\n",
       "10        facebook/react-native\n",
       "11                jquery/jquery\n",
       "12               torvalds/linux\n",
       "13            electron/electron\n",
       "14                    vuejs/vue\n",
       "Name: Name, dtype: object"
      ]
     },
     "execution_count": 73,
     "metadata": {},
     "output_type": "execute_result"
    }
   ],
   "source": [
    "df['Name'].head(15)"
   ]
  },
  {
   "cell_type": "markdown",
   "id": "d8204488",
   "metadata": {},
   "source": [
    "### Model Training"
   ]
  },
  {
   "cell_type": "code",
   "execution_count": 96,
   "id": "ea299947",
   "metadata": {},
   "outputs": [],
   "source": [
    "X = df['Stars']\n",
    "y = df['Forks']"
   ]
  },
  {
   "cell_type": "code",
   "execution_count": 97,
   "id": "16ed9f64",
   "metadata": {},
   "outputs": [
    {
     "data": {
      "text/plain": [
       "4966    1610\n",
       "4086    1936\n",
       "2881    2563\n",
       "1237    4571\n",
       "1429    4180\n",
       "Name: Stars, dtype: int64"
      ]
     },
     "execution_count": 97,
     "metadata": {},
     "output_type": "execute_result"
    }
   ],
   "source": [
    "# Let's now take a look a# Import train test split package to test data\n",
    "from sklearn.model_selection import train_test_split\n",
    "X_train, X_test, y_train, y_test = train_test_split(X, y, train_size = 0.7, test_size = 0.3, random_state = 100)\n",
    "X_train.head()"
   ]
  },
  {
   "cell_type": "code",
   "execution_count": 98,
   "id": "80054583",
   "metadata": {},
   "outputs": [],
   "source": [
    "import statsmodels.api as sm"
   ]
  },
  {
   "cell_type": "code",
   "execution_count": 99,
   "id": "dfc217e9",
   "metadata": {},
   "outputs": [],
   "source": [
    "# Add a constant to get an intercept\n",
    "X_train_sm = sm.add_constant(X_train)\n",
    "\n",
    "# Fit the resgression line using 'OLS'\n",
    "lr = sm.OLS(y_train, X_train_sm).fit()"
   ]
  },
  {
   "cell_type": "code",
   "execution_count": 100,
   "id": "33fc2d08",
   "metadata": {},
   "outputs": [
    {
     "name": "stdout",
     "output_type": "stream",
     "text": [
      "                            OLS Regression Results                            \n",
      "==============================================================================\n",
      "Dep. Variable:                  Forks   R-squared:                       0.599\n",
      "Model:                            OLS   Adj. R-squared:                  0.598\n",
      "Method:                 Least Squares   F-statistic:                     5215.\n",
      "Date:                Sun, 19 Feb 2023   Prob (F-statistic):               0.00\n",
      "Time:                        18:02:15   Log-Likelihood:                -29103.\n",
      "No. Observations:                3500   AIC:                         5.821e+04\n",
      "Df Residuals:                    3498   BIC:                         5.822e+04\n",
      "Df Model:                           1                                         \n",
      "Covariance Type:            nonrobust                                         \n",
      "==============================================================================\n",
      "                 coef    std err          t      P>|t|      [0.025      0.975]\n",
      "------------------------------------------------------------------------------\n",
      "const       -253.0653     22.616    -11.190      0.000    -297.407    -208.723\n",
      "Stars          0.2565      0.004     72.218      0.000       0.250       0.263\n",
      "==============================================================================\n",
      "Omnibus:                     5055.752   Durbin-Watson:                   2.001\n",
      "Prob(Omnibus):                  0.000   Jarque-Bera (JB):          3879014.675\n",
      "Skew:                           8.193   Prob(JB):                         0.00\n",
      "Kurtosis:                     165.267   Cond. No.                     8.62e+03\n",
      "==============================================================================\n",
      "\n",
      "Notes:\n",
      "[1] Standard Errors assume that the covariance matrix of the errors is correctly specified.\n",
      "[2] The condition number is large, 8.62e+03. This might indicate that there are\n",
      "strong multicollinearity or other numerical problems.\n"
     ]
    }
   ],
   "source": [
    "# Performing a summary operation lists out all the different parameters of the regression line fitted\n",
    "print(lr.summary())"
   ]
  },
  {
   "cell_type": "code",
   "execution_count": 101,
   "id": "fda2aa64",
   "metadata": {},
   "outputs": [],
   "source": [
    "# Model evaluation to check the error terms\n",
    "y_train_pred = lr.predict(X_train_sm)\n",
    "res = (y_train - y_train_pred)"
   ]
  },
  {
   "cell_type": "code",
   "execution_count": 92,
   "id": "6e8b1530",
   "metadata": {},
   "outputs": [
    {
     "data": {
      "image/png": "[encoded data removed]",
      "text/plain": [
       "<Figure size 640x480 with 1 Axes>"
      ]
     },
     "metadata": {},
     "output_type": "display_data"
    }
   ],
   "source": [
    "plt.scatter(X_train,res)\n",
    "plt.show()"
   ]
  }
 ],
 "metadata": {
  "kernelspec": {
   "display_name": "Python 3 (ipykernel)",
   "language": "python",
   "name": "python3"
  },
  "language_info": {
   "codemirror_mode": {
    "name": "ipython",
    "version": 3
   },
   "file_extension": ".py",
   "mimetype": "text/x-python",
   "name": "python",
   "nbconvert_exporter": "python",
   "pygments_lexer": "ipython3",
   "version": "3.9.13"
  }
 },
 "nbformat": 4,
 "nbformat_minor": 5
}
